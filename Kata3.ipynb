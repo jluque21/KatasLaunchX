{
 "cells": [
  {
   "cell_type": "code",
   "execution_count": 1,
   "metadata": {},
   "outputs": [
    {
     "name": "stdout",
     "output_type": "stream",
     "text": [
      "Advertencia, un asteroide se acerca\n"
     ]
    }
   ],
   "source": [
    "velocidad = 49\n",
    "if velocidad > 25:\n",
    "    print(\"Advertencia, un asteroide se acerca\")\n",
    "else:\n",
    "    print(\"No hay problema con el asteroide\")"
   ]
  },
  {
   "cell_type": "code",
   "execution_count": 2,
   "metadata": {},
   "outputs": [
    {
     "name": "stdout",
     "output_type": "stream",
     "text": [
      "no hay asteroides visibles\n"
     ]
    }
   ],
   "source": [
    "velocidad = 19\n",
    "if velocidad > 20:\n",
    "    print(\"Busca arriba, hay un asteroide visible\")\n",
    "elif velocidad == 20:\n",
    "    print(\"Busca arriba, hay un asteroide visible\")\n",
    "else:\n",
    "    print(\"no hay asteroides visibles\")\n"
   ]
  },
  {
   "cell_type": "code",
   "execution_count": 3,
   "metadata": {},
   "outputs": [
    {
     "name": "stdout",
     "output_type": "stream",
     "text": [
      "Advertencia un asteroide se acerca\n"
     ]
    }
   ],
   "source": [
    "velocidad = int(input(\"Ingresa la velocidad del asteroide: \"))\n",
    "size = int(input(\"Ingresa la medida del lado más grande del asteroide: \"))\n",
    "\n",
    "if velocidad > 25 or size > 25:\n",
    "    print(\"Advertencia un asteroide se acerca\")\n",
    "elif velocidad >= 20:\n",
    "    print(\"Mira el cielo, hay un asteroide visible\")\n",
    "else:\n",
    "    print(\"Todo tranquilo\")"
   ]
  },
  {
   "cell_type": "code",
   "execution_count": null,
   "metadata": {},
   "outputs": [],
   "source": []
  }
 ],
 "metadata": {
  "interpreter": {
   "hash": "2b9633d7fa5ab982061bfb564d074b296d09012f982aa5f7f307df4f8b9cbd47"
  },
  "kernelspec": {
   "display_name": "Python 3.8.8 64-bit ('base': conda)",
   "language": "python",
   "name": "python3"
  },
  "language_info": {
   "codemirror_mode": {
    "name": "ipython",
    "version": 3
   },
   "file_extension": ".py",
   "mimetype": "text/x-python",
   "name": "python",
   "nbconvert_exporter": "python",
   "pygments_lexer": "ipython3",
   "version": "3.8.8"
  },
  "orig_nbformat": 4
 },
 "nbformat": 4,
 "nbformat_minor": 2
}
